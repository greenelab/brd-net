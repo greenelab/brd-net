{
 "cells": [
  {
   "cell_type": "markdown",
   "metadata": {},
   "source": [
    "# Normalization Analysis\n",
    "---\n",
    "Test whether a per-study normalization scheme leads to better model training than normalizing all studies simultaneously"
   ]
  },
  {
   "cell_type": "code",
   "execution_count": 1,
   "metadata": {},
   "outputs": [],
   "source": [
    "import pandas\n",
    "import plotnine\n",
    "from plotnine import *\n",
    "\n",
    "plotnine.options.figure_size = (8,6)"
   ]
  },
  {
   "cell_type": "code",
   "execution_count": 2,
   "metadata": {},
   "outputs": [],
   "source": [
    "%%bash\n",
    "\n",
    "python ../brdnet/normalize_expression_by_study.py ../data/classifier_healthy.tsv ../data/classifier_disease.tsv 2> /dev/null\n",
    "python ../brdnet/normalize_expression_by_study.py ../data/plier_healthy.tsv ../data/plier_disease.tsv 2> /dev/null"
   ]
  },
  {
   "cell_type": "code",
   "execution_count": 3,
   "metadata": {},
   "outputs": [
    {
     "name": "stdout",
     "output_type": "stream",
     "text": [
      "[1] 142.1264\n",
      "[1] \"L2 is set to 142.126408570543\"\n",
      "[1] \"L1 is set to 71.0632042852715\"\n"
     ]
    }
   ],
   "source": [
    "%%bash\n",
    "PLIER_OUT='../data/norm_plier'\n",
    "\n",
    "mkdir -p $PLIER_OUT\n",
    "\n",
    "K_VAL=50\n",
    "\n",
    "Rscript ../brdnet/run_plier.R ../data/plier_healthy_normalized.tsv \\\n",
    "        ../data/plier_disease_normalized.tsv $PLIER_OUT \\\n",
    "        --noNorm -k $K_VAL 2> /dev/null\n",
    "       \n",
    "python ../brdnet/create_identity_matrix_df.py $PLIER_OUT/plier_${K_VAL}_Z.tsv $PLIER_OUT/plier_all_Z.tsv"
   ]
  },
  {
   "cell_type": "code",
   "execution_count": 4,
   "metadata": {},
   "outputs": [],
   "source": [
    "%%bash\n",
    "PLIER_OUT='../data/norm_plier'\n",
    "\n",
    "python ../brdnet/evaluate_models.py $PLIER_OUT ../data/classifier_healthy_normalized.tsv \\\n",
    "                                    ../data/classifier_disease_normalized.tsv \\\n",
    "                                    --out_path ../results/norm_results.csv\\\n",
    "                                    --study_out_path ../results/study_norm_results.csv\\\n",
    "                                    --epochs 400 > /dev/null 2>&1"
   ]
  },
  {
   "cell_type": "markdown",
   "metadata": {},
   "source": [
    "### Compare the accuracy of each model on ten different validation sets"
   ]
  },
  {
   "cell_type": "code",
   "execution_count": 5,
   "metadata": {},
   "outputs": [
    {
     "data": {
      "text/html": [
       "<div>\n",
       "<style scoped>\n",
       "    .dataframe tbody tr th:only-of-type {\n",
       "        vertical-align: middle;\n",
       "    }\n",
       "\n",
       "    .dataframe tbody tr th {\n",
       "        vertical-align: top;\n",
       "    }\n",
       "\n",
       "    .dataframe thead th {\n",
       "        text-align: right;\n",
       "    }\n",
       "</style>\n",
       "<table border=\"1\" class=\"dataframe\">\n",
       "  <thead>\n",
       "    <tr style=\"text-align: right;\">\n",
       "      <th></th>\n",
       "      <th>Model</th>\n",
       "      <th>LR</th>\n",
       "      <th>Seed</th>\n",
       "      <th>val_acc</th>\n",
       "      <th>val_auroc</th>\n",
       "      <th>val_aupr</th>\n",
       "      <th>val_baseline</th>\n",
       "      <th>lv_count</th>\n",
       "      <th>acc_over_baseline</th>\n",
       "    </tr>\n",
       "  </thead>\n",
       "  <tbody>\n",
       "    <tr>\n",
       "      <th>0</th>\n",
       "      <td>IForest</td>\n",
       "      <td>0.00001</td>\n",
       "      <td>0</td>\n",
       "      <td>0.629032</td>\n",
       "      <td>0.710718</td>\n",
       "      <td>0.681483</td>\n",
       "      <td>0.576029</td>\n",
       "      <td>6605</td>\n",
       "      <td>5.300364e-02</td>\n",
       "    </tr>\n",
       "    <tr>\n",
       "      <th>1</th>\n",
       "      <td>OCSVM</td>\n",
       "      <td>0.00001</td>\n",
       "      <td>0</td>\n",
       "      <td>0.645161</td>\n",
       "      <td>0.679501</td>\n",
       "      <td>0.666593</td>\n",
       "      <td>0.576029</td>\n",
       "      <td>6605</td>\n",
       "      <td>6.913267e-02</td>\n",
       "    </tr>\n",
       "    <tr>\n",
       "      <th>2</th>\n",
       "      <td>LogisticRegression</td>\n",
       "      <td>0.00001</td>\n",
       "      <td>0</td>\n",
       "      <td>0.606440</td>\n",
       "      <td>0.592054</td>\n",
       "      <td>0.561780</td>\n",
       "      <td>0.576029</td>\n",
       "      <td>6605</td>\n",
       "      <td>3.041144e-02</td>\n",
       "    </tr>\n",
       "    <tr>\n",
       "      <th>3</th>\n",
       "      <td>MLP</td>\n",
       "      <td>0.00001</td>\n",
       "      <td>0</td>\n",
       "      <td>0.576029</td>\n",
       "      <td>0.542089</td>\n",
       "      <td>0.473873</td>\n",
       "      <td>0.576029</td>\n",
       "      <td>6605</td>\n",
       "      <td>2.249835e-08</td>\n",
       "    </tr>\n",
       "    <tr>\n",
       "      <th>4</th>\n",
       "      <td>TenLayerNet</td>\n",
       "      <td>0.00001</td>\n",
       "      <td>0</td>\n",
       "      <td>0.575134</td>\n",
       "      <td>0.588984</td>\n",
       "      <td>0.529626</td>\n",
       "      <td>0.576029</td>\n",
       "      <td>6605</td>\n",
       "      <td>-8.944644e-04</td>\n",
       "    </tr>\n",
       "  </tbody>\n",
       "</table>\n",
       "</div>"
      ],
      "text/plain": [
       "                Model       LR  Seed   val_acc  val_auroc  val_aupr  \\\n",
       "0             IForest  0.00001     0  0.629032   0.710718  0.681483   \n",
       "1               OCSVM  0.00001     0  0.645161   0.679501  0.666593   \n",
       "2  LogisticRegression  0.00001     0  0.606440   0.592054  0.561780   \n",
       "3                 MLP  0.00001     0  0.576029   0.542089  0.473873   \n",
       "4         TenLayerNet  0.00001     0  0.575134   0.588984  0.529626   \n",
       "\n",
       "   val_baseline  lv_count  acc_over_baseline  \n",
       "0      0.576029      6605       5.300364e-02  \n",
       "1      0.576029      6605       6.913267e-02  \n",
       "2      0.576029      6605       3.041144e-02  \n",
       "3      0.576029      6605       2.249835e-08  \n",
       "4      0.576029      6605      -8.944644e-04  "
      ]
     },
     "execution_count": 5,
     "metadata": {},
     "output_type": "execute_result"
    }
   ],
   "source": [
    "# Load the dataframe generated by evaluate_models.py\n",
    "result_df = pandas.read_csv('../results/norm_results.csv', index_col=0)\n",
    "\n",
    "result_df['acc_over_baseline'] = result_df['val_acc'] - result_df['val_baseline']\n",
    "\n",
    "result_df.head()"
   ]
  },
  {
   "cell_type": "code",
   "execution_count": 6,
   "metadata": {},
   "outputs": [
    {
     "name": "stderr",
     "output_type": "stream",
     "text": [
      "/home/ben/anaconda3/envs/brdnet/lib/python3.7/site-packages/plotnine/scales/scale.py:93: MatplotlibDeprecationWarning: \n",
      "The iterable function was deprecated in Matplotlib 3.1 and will be removed in 3.3. Use np.iterable instead.\n",
      "  if cbook.iterable(self.breaks) and cbook.iterable(self.labels):\n",
      "/home/ben/anaconda3/envs/brdnet/lib/python3.7/site-packages/plotnine/utils.py:553: MatplotlibDeprecationWarning: \n",
      "The iterable function was deprecated in Matplotlib 3.1 and will be removed in 3.3. Use np.iterable instead.\n",
      "  return cbook.iterable(var) and not is_string(var)\n"
     ]
    },
    {
     "data": {
      "image/png": "[encoded data removed]",
      "text/plain": [
       "<Figure size 800x600 with 5 Axes>"
      ]
     },
     "metadata": {},
     "output_type": "display_data"
    },
    {
     "data": {
      "text/plain": [
       "<ggplot: (8738774078991)>"
      ]
     },
     "execution_count": 6,
     "metadata": {},
     "output_type": "execute_result"
    }
   ],
   "source": [
    "ggplot(result_df, aes(x='factor(lv_count)', y='val_acc', color='factor(lv_count)')) +\\\n",
    "geom_point() +\\\n",
    "facet_grid('. ~ Model') +\\\n",
    "theme(axis_text_x=element_text(rotation=90, hjust=0.5))"
   ]
  },
  {
   "cell_type": "markdown",
   "metadata": {},
   "source": [
    "### Plot adjusted accuracy\n",
    "---\n",
    "Since the accuracy measurements are based on different validation sets, it makes sense to compare them to a baseline model. In this case, the baseline predicts that every sample is from the larger class. The field `acc_over_baseline` is generated by subtracting the baseline model's accuracy from the main model."
   ]
  },
  {
   "cell_type": "code",
   "execution_count": 7,
   "metadata": {},
   "outputs": [
    {
     "name": "stderr",
     "output_type": "stream",
     "text": [
      "/home/ben/anaconda3/envs/brdnet/lib/python3.7/site-packages/plotnine/scales/scale.py:93: MatplotlibDeprecationWarning: \n",
      "The iterable function was deprecated in Matplotlib 3.1 and will be removed in 3.3. Use np.iterable instead.\n",
      "  if cbook.iterable(self.breaks) and cbook.iterable(self.labels):\n",
      "/home/ben/anaconda3/envs/brdnet/lib/python3.7/site-packages/plotnine/utils.py:69: MatplotlibDeprecationWarning: \n",
      "The iterable function was deprecated in Matplotlib 3.1 and will be removed in 3.3. Use np.iterable instead.\n",
      "  if cbook.iterable(val) and not is_string(val):\n",
      "/home/ben/anaconda3/envs/brdnet/lib/python3.7/site-packages/plotnine/utils.py:553: MatplotlibDeprecationWarning: \n",
      "The iterable function was deprecated in Matplotlib 3.1 and will be removed in 3.3. Use np.iterable instead.\n",
      "  return cbook.iterable(var) and not is_string(var)\n"
     ]
    },
    {
     "data": {
      "image/png": "[encoded data removed]",
      "text/plain": [
       "<Figure size 800x600 with 5 Axes>"
      ]
     },
     "metadata": {},
     "output_type": "display_data"
    },
    {
     "data": {
      "text/plain": [
       "<ggplot: (8738773969279)>"
      ]
     },
     "execution_count": 7,
     "metadata": {},
     "output_type": "execute_result"
    }
   ],
   "source": [
    "ggplot(result_df, aes(x='factor(lv_count)', y='acc_over_baseline', color='factor(lv_count)')) +\\\n",
    "geom_boxplot() +\\\n",
    "facet_grid('. ~ Model') +\\\n",
    "theme(axis_text_x=element_text(rotation=90, hjust=0.5))"
   ]
  },
  {
   "cell_type": "markdown",
   "metadata": {},
   "source": [
    "### Plot AUROC\n",
    "---\n",
    "The area under the receiver operating curve is a metric that evaluates a model across all score cutoffs instead of just one."
   ]
  },
  {
   "cell_type": "code",
   "execution_count": 8,
   "metadata": {},
   "outputs": [
    {
     "name": "stderr",
     "output_type": "stream",
     "text": [
      "/home/ben/anaconda3/envs/brdnet/lib/python3.7/site-packages/plotnine/scales/scale.py:93: MatplotlibDeprecationWarning: \n",
      "The iterable function was deprecated in Matplotlib 3.1 and will be removed in 3.3. Use np.iterable instead.\n",
      "  if cbook.iterable(self.breaks) and cbook.iterable(self.labels):\n",
      "/home/ben/anaconda3/envs/brdnet/lib/python3.7/site-packages/plotnine/stats/stat.py:310: FutureWarning: Sorting because non-concatenation axis is not aligned. A future version\n",
      "of pandas will change to not sort by default.\n",
      "\n",
      "To accept the future behavior, pass 'sort=False'.\n",
      "\n",
      "To retain the current behavior and silence the warning, pass 'sort=True'.\n",
      "\n",
      "  stats = pd.concat(stats, axis=0, ignore_index=True)\n",
      "/home/ben/anaconda3/envs/brdnet/lib/python3.7/site-packages/plotnine/utils.py:629: FutureWarning: Sorting because non-concatenation axis is not aligned. A future version\n",
      "of pandas will change to not sort by default.\n",
      "\n",
      "To accept the future behavior, pass 'sort=False'.\n",
      "\n",
      "To retain the current behavior and silence the warning, pass 'sort=True'.\n",
      "\n",
      "  return pd.concat(lst, axis=axis, ignore_index=True)\n",
      "/home/ben/anaconda3/envs/brdnet/lib/python3.7/site-packages/plotnine/utils.py:69: MatplotlibDeprecationWarning: \n",
      "The iterable function was deprecated in Matplotlib 3.1 and will be removed in 3.3. Use np.iterable instead.\n",
      "  if cbook.iterable(val) and not is_string(val):\n",
      "/home/ben/anaconda3/envs/brdnet/lib/python3.7/site-packages/plotnine/utils.py:553: MatplotlibDeprecationWarning: \n",
      "The iterable function was deprecated in Matplotlib 3.1 and will be removed in 3.3. Use np.iterable instead.\n",
      "  return cbook.iterable(var) and not is_string(var)\n"
     ]
    },
    {
     "data": {
      "image/png": "[encoded data removed]",
      "text/plain": [
       "<Figure size 800x600 with 5 Axes>"
      ]
     },
     "metadata": {},
     "output_type": "display_data"
    },
    {
     "data": {
      "text/plain": [
       "<ggplot: (-9223363298083792703)>"
      ]
     },
     "execution_count": 8,
     "metadata": {},
     "output_type": "execute_result"
    }
   ],
   "source": [
    "ggplot(result_df, aes(x='factor(lv_count)', y='val_auroc', color='factor(lv_count)')) +\\\n",
    "geom_boxplot() +\\\n",
    "facet_grid('. ~ Model') +\\\n",
    "theme(axis_text_x=element_text(rotation=90, hjust=0.5))"
   ]
  },
  {
   "cell_type": "markdown",
   "metadata": {},
   "source": [
    "### Conclusions\n",
    "At the global level, per-study normalization does not appear to imporve the performance of classifiers when compared to [row normalization](./compare_models.ipynb). It does appear to have a positive impact on outlier detection models though."
   ]
  },
  {
   "cell_type": "markdown",
   "metadata": {},
   "source": [
    "## Per-study analysis\n",
    "Run some of the analyses performed in [per_study_analysis](./per_study_analysis.ipynb)"
   ]
  },
  {
   "cell_type": "code",
   "execution_count": 9,
   "metadata": {},
   "outputs": [
    {
     "data": {
      "text/html": [
       "<div>\n",
       "<style scoped>\n",
       "    .dataframe tbody tr th:only-of-type {\n",
       "        vertical-align: middle;\n",
       "    }\n",
       "\n",
       "    .dataframe tbody tr th {\n",
       "        vertical-align: top;\n",
       "    }\n",
       "\n",
       "    .dataframe thead th {\n",
       "        text-align: right;\n",
       "    }\n",
       "</style>\n",
       "<table border=\"1\" class=\"dataframe\">\n",
       "  <thead>\n",
       "    <tr style=\"text-align: right;\">\n",
       "      <th></th>\n",
       "      <th>Model</th>\n",
       "      <th>Study</th>\n",
       "      <th>LR</th>\n",
       "      <th>Seed</th>\n",
       "      <th>val_acc</th>\n",
       "      <th>val_auroc</th>\n",
       "      <th>val_aupr</th>\n",
       "      <th>val_baseline</th>\n",
       "      <th>lv_count</th>\n",
       "      <th>acc_over_baseline</th>\n",
       "    </tr>\n",
       "  </thead>\n",
       "  <tbody>\n",
       "    <tr>\n",
       "      <th>0</th>\n",
       "      <td>IForest</td>\n",
       "      <td>SRP003611</td>\n",
       "      <td>0.00001</td>\n",
       "      <td>0</td>\n",
       "      <td>0.0000</td>\n",
       "      <td>NaN</td>\n",
       "      <td>NaN</td>\n",
       "      <td>1.0000</td>\n",
       "      <td>6605</td>\n",
       "      <td>-1.0000</td>\n",
       "    </tr>\n",
       "    <tr>\n",
       "      <th>1</th>\n",
       "      <td>IForest</td>\n",
       "      <td>SRP055749</td>\n",
       "      <td>0.00001</td>\n",
       "      <td>0</td>\n",
       "      <td>0.5625</td>\n",
       "      <td>0.818182</td>\n",
       "      <td>0.731111</td>\n",
       "      <td>0.6875</td>\n",
       "      <td>6605</td>\n",
       "      <td>-0.1250</td>\n",
       "    </tr>\n",
       "    <tr>\n",
       "      <th>2</th>\n",
       "      <td>IForest</td>\n",
       "      <td>SRP029592</td>\n",
       "      <td>0.00001</td>\n",
       "      <td>0</td>\n",
       "      <td>0.2000</td>\n",
       "      <td>NaN</td>\n",
       "      <td>NaN</td>\n",
       "      <td>1.0000</td>\n",
       "      <td>6605</td>\n",
       "      <td>-0.8000</td>\n",
       "    </tr>\n",
       "    <tr>\n",
       "      <th>3</th>\n",
       "      <td>IForest</td>\n",
       "      <td>SRP043108</td>\n",
       "      <td>0.00001</td>\n",
       "      <td>0</td>\n",
       "      <td>0.8500</td>\n",
       "      <td>NaN</td>\n",
       "      <td>NaN</td>\n",
       "      <td>1.0000</td>\n",
       "      <td>6605</td>\n",
       "      <td>-0.1500</td>\n",
       "    </tr>\n",
       "    <tr>\n",
       "      <th>4</th>\n",
       "      <td>IForest</td>\n",
       "      <td>SRP020470</td>\n",
       "      <td>0.00001</td>\n",
       "      <td>0</td>\n",
       "      <td>0.5625</td>\n",
       "      <td>NaN</td>\n",
       "      <td>NaN</td>\n",
       "      <td>1.0000</td>\n",
       "      <td>6605</td>\n",
       "      <td>-0.4375</td>\n",
       "    </tr>\n",
       "  </tbody>\n",
       "</table>\n",
       "</div>"
      ],
      "text/plain": [
       "     Model      Study       LR  Seed  val_acc  val_auroc  val_aupr  \\\n",
       "0  IForest  SRP003611  0.00001     0   0.0000        NaN       NaN   \n",
       "1  IForest  SRP055749  0.00001     0   0.5625   0.818182  0.731111   \n",
       "2  IForest  SRP029592  0.00001     0   0.2000        NaN       NaN   \n",
       "3  IForest  SRP043108  0.00001     0   0.8500        NaN       NaN   \n",
       "4  IForest  SRP020470  0.00001     0   0.5625        NaN       NaN   \n",
       "\n",
       "   val_baseline  lv_count  acc_over_baseline  \n",
       "0        1.0000      6605            -1.0000  \n",
       "1        0.6875      6605            -0.1250  \n",
       "2        1.0000      6605            -0.8000  \n",
       "3        1.0000      6605            -0.1500  \n",
       "4        1.0000      6605            -0.4375  "
      ]
     },
     "execution_count": 9,
     "metadata": {},
     "output_type": "execute_result"
    }
   ],
   "source": [
    "result_df = pandas.read_csv('../results/study_norm_results.csv', index_col=0)\n",
    "\n",
    "result_df['acc_over_baseline'] = result_df['val_acc'] - result_df['val_baseline']\n",
    "\n",
    "result_df.head()"
   ]
  },
  {
   "cell_type": "code",
   "execution_count": 10,
   "metadata": {},
   "outputs": [],
   "source": [
    "one_class_df = result_df[result_df['val_baseline'] == 1]\n",
    "two_class_df = result_df[result_df['val_baseline'] != 1]"
   ]
  },
  {
   "cell_type": "markdown",
   "metadata": {},
   "source": [
    "### Accuracy mean and std for all studies"
   ]
  },
  {
   "cell_type": "code",
   "execution_count": 11,
   "metadata": {},
   "outputs": [
    {
     "name": "stdout",
     "output_type": "stream",
     "text": [
      "IForest 0.5339952935317582\n",
      "LogisticRegression 0.5669072528454391\n",
      "MLP 0.5869522232020443\n",
      "OCSVM 0.489394448421478\n",
      "TenLayerNet 0.5806745158965615\n",
      "\n",
      "IForest 0.3038815669998245\n",
      "LogisticRegression 0.1843637917675085\n",
      "MLP 0.2335013657299932\n",
      "OCSVM 0.3651198797714138\n",
      "TenLayerNet 0.2743832867230938\n"
     ]
    }
   ],
   "source": [
    "for group, df in result_df.groupby(['Model']):\n",
    "    print(group, df['val_acc'].mean())\n",
    "print()\n",
    "for group, df in result_df.groupby(['Model']):\n",
    "    print(group, df['val_acc'].std())"
   ]
  },
  {
   "cell_type": "markdown",
   "metadata": {},
   "source": [
    "### Accuracy mean and std for studies with only one class\n",
    "One class studies have either healthy samples or unhealthy samples, but not both."
   ]
  },
  {
   "cell_type": "code",
   "execution_count": 12,
   "metadata": {},
   "outputs": [
    {
     "name": "stdout",
     "output_type": "stream",
     "text": [
      "IForest 0.5388929944443615\n",
      "LogisticRegression 0.5456500488810423\n",
      "MLP 0.5856028087891456\n",
      "OCSVM 0.4663807309796113\n",
      "TenLayerNet 0.597389571643548\n",
      "\n",
      "IForest 0.3374476757711059\n",
      "LogisticRegression 0.15956774467577745\n",
      "MLP 0.24727569402460725\n",
      "OCSVM 0.40476407707031\n",
      "TenLayerNet 0.2913234935091394\n"
     ]
    }
   ],
   "source": [
    "for group, df in one_class_df.groupby(['Model']):\n",
    "    print(group, df['val_acc'].mean())\n",
    "print()\n",
    "for group, df in one_class_df.groupby(['Model']):\n",
    "    print(group, df['val_acc'].std())"
   ]
  },
  {
   "cell_type": "markdown",
   "metadata": {},
   "source": [
    "### Accuracy mean and std for studies with two classes\n",
    "This is the complement of the previous analysis, looking only at studies that have both healthy and unhealthy samples"
   ]
  },
  {
   "cell_type": "code",
   "execution_count": 13,
   "metadata": {},
   "outputs": [
    {
     "name": "stdout",
     "output_type": "stream",
     "text": [
      "IForest 0.5196520265734199\n",
      "LogisticRegression 0.6291604930268867\n",
      "MLP 0.5909040796969618\n",
      "OCSVM 0.5567917637869445\n",
      "TenLayerNet 0.531723281208958\n",
      "\n",
      "IForest 0.1714309388979207\n",
      "LogisticRegression 0.23257674512212453\n",
      "MLP 0.188170240127434\n",
      "OCSVM 0.19577192212860903\n",
      "TenLayerNet 0.21069462442634607\n"
     ]
    }
   ],
   "source": [
    "for group, df in two_class_df.groupby(['Model']):\n",
    "    print(group, df['val_acc'].mean())\n",
    "print()\n",
    "for group, df in two_class_df.groupby(['Model']):\n",
    "    print(group, df['val_acc'].std())"
   ]
  },
  {
   "cell_type": "markdown",
   "metadata": {},
   "source": [
    "### AUROC for two class studies"
   ]
  },
  {
   "cell_type": "code",
   "execution_count": 14,
   "metadata": {},
   "outputs": [
    {
     "name": "stdout",
     "output_type": "stream",
     "text": [
      "IForest 0.5493660929881268\n",
      "LogisticRegression 0.6739330700997795\n",
      "MLP 0.6675094704542841\n",
      "OCSVM 0.5343578999792982\n",
      "TenLayerNet 0.6226876952818462\n",
      "\n",
      "IForest 0.25569005442216897\n",
      "LogisticRegression 0.26179640869311344\n",
      "MLP 0.21058402793827663\n",
      "OCSVM 0.19368508469045717\n",
      "TenLayerNet 0.23093598241713828\n"
     ]
    }
   ],
   "source": [
    "for group, df in two_class_df.groupby(['Model']):\n",
    "    print(group, df['val_auroc'].mean())\n",
    "print()\n",
    "for group, df in two_class_df.groupby(['Model']):\n",
    "    print(group, df['val_auroc'].std())"
   ]
  },
  {
   "cell_type": "markdown",
   "metadata": {},
   "source": [
    "## Conclusions\n",
    "Both the global and per-study analyses give comparable results when run on row normalized and per-study normalized data. The next step will be to train models on individual diseases to see whether a simpler dataset is more seperable."
   ]
  }
 ],
 "metadata": {
  "kernelspec": {
   "display_name": "Python 3",
   "language": "python",
   "name": "python3"
  },
  "language_info": {
   "codemirror_mode": {
    "name": "ipython",
    "version": 3
   },
   "file_extension": ".py",
   "mimetype": "text/x-python",
   "name": "python",
   "nbconvert_exporter": "python",
   "pygments_lexer": "ipython3",
   "version": "3.7.3"
  }
 },
 "nbformat": 4,
 "nbformat_minor": 2
}
